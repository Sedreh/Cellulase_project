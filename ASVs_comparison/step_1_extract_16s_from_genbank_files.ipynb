{
 "cells": [
  {
   "cell_type": "raw",
   "metadata": {},
   "source": [
    "In this notebook Extracting 16S sequences from Conexibacter, Chitinophaga, Herbidospora, Variovorax, Sorangium, and Polaromonas assemblies and create a blast database."
   ]
  },
  {
   "cell_type": "code",
   "execution_count": 1,
   "metadata": {},
   "outputs": [],
   "source": [
    "from Bio.SeqRecord import SeqRecord\n",
    "from Bio import SeqIO, SeqFeature\n",
    "import pandas as pd\n",
    "import sys\n",
    "import os\n",
    "import gzip\n",
    "import typing as t\n",
    "import numpy as np\n"
   ]
  },
  {
   "cell_type": "code",
   "execution_count": null,
   "metadata": {},
   "outputs": [],
   "source": [
    "# necessary functions\n",
    "# explode a dataframe column\n",
    "def explode(df, lst_cols, fill_value='', preserve_index=False):\n",
    "    # make sure `lst_cols` is list-alike\n",
    "    if (lst_cols is not None\n",
    "        and len(lst_cols) > 0\n",
    "        and not isinstance(lst_cols, (list, tuple, np.ndarray, pd.Series))):\n",
    "        lst_cols = [lst_cols]\n",
    "    # all columns except `lst_cols`\n",
    "    idx_cols = df.columns.difference(lst_cols)\n",
    "    # calculate lengths of lists\n",
    "    lens = df[lst_cols[0]].str.len()\n",
    "    # preserve original index values    \n",
    "    idx = np.repeat(df.index.values, lens)\n",
    "    # create \"exploded\" DF\n",
    "    res = (pd.DataFrame({\n",
    "                col:np.repeat(df[col].values, lens)\n",
    "                for col in idx_cols},\n",
    "                index=idx)\n",
    "             .assign(**{col:np.concatenate(df.loc[lens>0, col].values)\n",
    "                            for col in lst_cols}))\n",
    "    # append those rows that have empty lists\n",
    "    if (lens == 0).any():\n",
    "        # at least one list in cells is empty\n",
    "        res = (res.append(df.loc[lens==0, idx_cols], sort=False)\n",
    "                  .fillna(fill_value))\n",
    "    # revert the original index order\n",
    "    res = res.sort_index()\n",
    "    # reset index if requested\n",
    "    if not preserve_index:        \n",
    "        res = res.reset_index(drop=True)\n",
    "    return res\n",
    "\n",
    "# function for parsing gzipped genbank files\n",
    "def parse_gzipped_gb(path: str) -> t.List[SeqRecord]:\n",
    "    with gzip.open(path, 'rt') as buffer:\n",
    "        return list(SeqIO.parse(buffer, 'genbank'))\n",
    "    "
   ]
  },
  {
   "cell_type": "code",
   "execution_count": null,
   "metadata": {},
   "outputs": [],
   "source": [
    "# making a 16s database"
   ]
  },
  {
   "cell_type": "code",
   "execution_count": 3,
   "metadata": {},
   "outputs": [],
   "source": [
    "dir_path = \"/home/is6/ASVs_comparison/samples\"\n",
    "dir_name = []\n",
    "file_name = []\n",
    "for path, dirs, files in os.walk(dir_path):\n",
    "    dir_name.append(dirs)\n",
    "    file_name.append(files)"
   ]
  },
  {
   "cell_type": "code",
   "execution_count": 4,
   "metadata": {},
   "outputs": [],
   "source": [
    "new_file_list = list(filter(None,file_name))\n",
    "new_dir_list = list(dir_name[0])\n",
    "all_samples = list(zip(new_dir_list,new_file_list))"
   ]
  },
  {
   "cell_type": "code",
   "execution_count": 5,
   "metadata": {},
   "outputs": [],
   "source": [
    "sample_df = pd.DataFrame(all_samples)\n",
    "sample_df.columns = [\"genera\", \"samples\"]"
   ]
  },
  {
   "cell_type": "code",
   "execution_count": 7,
   "metadata": {
    "scrolled": true
   },
   "outputs": [
    {
     "data": {
      "text/html": [
       "<div>\n",
       "<style scoped>\n",
       "    .dataframe tbody tr th:only-of-type {\n",
       "        vertical-align: middle;\n",
       "    }\n",
       "\n",
       "    .dataframe tbody tr th {\n",
       "        vertical-align: top;\n",
       "    }\n",
       "\n",
       "    .dataframe thead th {\n",
       "        text-align: right;\n",
       "    }\n",
       "</style>\n",
       "<table border=\"1\" class=\"dataframe\">\n",
       "  <thead>\n",
       "    <tr style=\"text-align: right;\">\n",
       "      <th></th>\n",
       "      <th>genera</th>\n",
       "      <th>samples</th>\n",
       "    </tr>\n",
       "  </thead>\n",
       "  <tbody>\n",
       "    <tr>\n",
       "      <th>0</th>\n",
       "      <td>Herbidospora</td>\n",
       "      <td>['GCA_005233835.1_ASM523383v1_genomic.gbff.gz'</td>\n",
       "    </tr>\n",
       "    <tr>\n",
       "      <th>1</th>\n",
       "      <td>Herbidospora</td>\n",
       "      <td>'GCA_009901565.1_ASM990156v1_genomic.gbff.gz'</td>\n",
       "    </tr>\n",
       "    <tr>\n",
       "      <th>2</th>\n",
       "      <td>Herbidospora</td>\n",
       "      <td>'GCA_001570525.1_ASM157052v1_genomic.gbff.gz'</td>\n",
       "    </tr>\n",
       "    <tr>\n",
       "      <th>3</th>\n",
       "      <td>Herbidospora</td>\n",
       "      <td>'GCA_001570605.1_ASM157060v1_genomic.gbff.gz'</td>\n",
       "    </tr>\n",
       "    <tr>\n",
       "      <th>4</th>\n",
       "      <td>Herbidospora</td>\n",
       "      <td>'GCA_001570585.1_ASM157058v1_genomic.gbff.gz'</td>\n",
       "    </tr>\n",
       "  </tbody>\n",
       "</table>\n",
       "</div>"
      ],
      "text/plain": [
       "         genera                                         samples\n",
       "0  Herbidospora  ['GCA_005233835.1_ASM523383v1_genomic.gbff.gz'\n",
       "1  Herbidospora   'GCA_009901565.1_ASM990156v1_genomic.gbff.gz'\n",
       "2  Herbidospora   'GCA_001570525.1_ASM157052v1_genomic.gbff.gz'\n",
       "3  Herbidospora   'GCA_001570605.1_ASM157060v1_genomic.gbff.gz'\n",
       "4  Herbidospora   'GCA_001570585.1_ASM157058v1_genomic.gbff.gz'"
      ]
     },
     "execution_count": 7,
     "metadata": {},
     "output_type": "execute_result"
    }
   ],
   "source": [
    "sample_df['samples'] = sample_df['samples'].astype(str)\n",
    "new_df = pd.DataFrame(explode(sample_df.assign(samples=sample_df.samples.str.split(',')), 'samples'))\n"
   ]
  },
  {
   "cell_type": "code",
   "execution_count": 8,
   "metadata": {
    "scrolled": true
   },
   "outputs": [
    {
     "data": {
      "text/html": [
       "<div>\n",
       "<style scoped>\n",
       "    .dataframe tbody tr th:only-of-type {\n",
       "        vertical-align: middle;\n",
       "    }\n",
       "\n",
       "    .dataframe tbody tr th {\n",
       "        vertical-align: top;\n",
       "    }\n",
       "\n",
       "    .dataframe thead th {\n",
       "        text-align: right;\n",
       "    }\n",
       "</style>\n",
       "<table border=\"1\" class=\"dataframe\">\n",
       "  <thead>\n",
       "    <tr style=\"text-align: right;\">\n",
       "      <th></th>\n",
       "      <th>genera</th>\n",
       "      <th>samples</th>\n",
       "    </tr>\n",
       "  </thead>\n",
       "  <tbody>\n",
       "    <tr>\n",
       "      <th>0</th>\n",
       "      <td>Herbidospora</td>\n",
       "      <td>GCA_005233835.1_ASM523383v1_genomic.gbff.gz</td>\n",
       "    </tr>\n",
       "    <tr>\n",
       "      <th>1</th>\n",
       "      <td>Herbidospora</td>\n",
       "      <td>GCA_009901565.1_ASM990156v1_genomic.gbff.gz</td>\n",
       "    </tr>\n",
       "    <tr>\n",
       "      <th>2</th>\n",
       "      <td>Herbidospora</td>\n",
       "      <td>GCA_001570525.1_ASM157052v1_genomic.gbff.gz</td>\n",
       "    </tr>\n",
       "    <tr>\n",
       "      <th>3</th>\n",
       "      <td>Herbidospora</td>\n",
       "      <td>GCA_001570605.1_ASM157060v1_genomic.gbff.gz</td>\n",
       "    </tr>\n",
       "    <tr>\n",
       "      <th>4</th>\n",
       "      <td>Herbidospora</td>\n",
       "      <td>GCA_001570585.1_ASM157058v1_genomic.gbff.gz</td>\n",
       "    </tr>\n",
       "  </tbody>\n",
       "</table>\n",
       "</div>"
      ],
      "text/plain": [
       "         genera                                      samples\n",
       "0  Herbidospora  GCA_005233835.1_ASM523383v1_genomic.gbff.gz\n",
       "1  Herbidospora  GCA_009901565.1_ASM990156v1_genomic.gbff.gz\n",
       "2  Herbidospora  GCA_001570525.1_ASM157052v1_genomic.gbff.gz\n",
       "3  Herbidospora  GCA_001570605.1_ASM157060v1_genomic.gbff.gz\n",
       "4  Herbidospora  GCA_001570585.1_ASM157058v1_genomic.gbff.gz"
      ]
     },
     "execution_count": 8,
     "metadata": {},
     "output_type": "execute_result"
    }
   ],
   "source": [
    "new_df.samples = new_df.samples.str.replace(\"'\", '')\n",
    "new_df.samples = new_df.samples.str.replace(\"[\", '')\n",
    "new_df.samples = new_df.samples.str.replace(\"]\", '')\n",
    "new_df.samples = new_df.samples.str.replace(\" \", '')\n",
    "new_df.head()\n"
   ]
  },
  {
   "cell_type": "code",
   "execution_count": 13,
   "metadata": {},
   "outputs": [],
   "source": [
    "!mkdir 16s_database"
   ]
  },
  {
   "cell_type": "code",
   "execution_count": 14,
   "metadata": {
    "scrolled": true
   },
   "outputs": [],
   "source": [
    "# main loop to iterate through samples and write final fasta\n",
    "\n",
    "\n",
    "for i, row in new_df.iterrows():\n",
    "    file = \"/home/is6/ASVs_comparison/16s_database/{}.fasta\".format(row.genera)\n",
    "    x = open(file, \"a+\")  #open existing fasta file and append to it\n",
    "    #for path in row.samples:\n",
    "    path = \"/home/is6/ASVs_comparison/samples/{}/{}\".format(row.genera, row.samples)\n",
    "    gbank= parse_gzipped_gb(path)\n",
    "    \n",
    "    accession_number = row.samples.replace('.gbff.gz','')\n",
    "    sample_id, accn, seq_type = accession_number.rsplit('_', 2)\n",
    "\n",
    "    for genome in gbank:\n",
    "        for gene in genome.features:\n",
    "            if gene.type==\"rRNA\":\n",
    "                if 'product' in gene.qualifiers:\n",
    "                    if '16S' in gene.qualifiers['product'][0]:\n",
    "                        start = gene.location.nofuzzy_start\n",
    "                        end = gene.location.nofuzzy_end\n",
    "                        if 'db_xref' in gene.qualifiers:\n",
    "                            gi=[]\n",
    "                            gi=str(gene.qualifiers['db_xref'])\n",
    "                            gi=gi.split(\":\")[1]\n",
    "                            gi=gi.split(\"'\")[0]\n",
    "                            print (\">%s %s %s %s\\n%s\" % (sample_id, accn, seq_type,genome.description,genome.seq[start:end]), file=x)\n",
    "                        else:\n",
    "                            print (\">%s %s %s %s\\n%s\" % (sample_id, accn, seq_type, genome.description,genome.seq[start:end]), file=x)\n",
    "                            \n",
    "    x.close()\n"
   ]
  },
  {
   "cell_type": "code",
   "execution_count": 19,
   "metadata": {},
   "outputs": [],
   "source": [
    "#combining all extracted 16s sequences from each genera in one fsta file\n",
    "!cat 16s_database/*.fasta > 16s_database/16s_database.fasta"
   ]
  },
  {
   "cell_type": "code",
   "execution_count": 20,
   "metadata": {},
   "outputs": [
    {
     "name": "stdout",
     "output_type": "stream",
     "text": [
      "total 300K\r\n",
      "-rw-rw-r-- 1 is6 is6 4.3K Jul  1 10:25 Herbidospora.fasta\r\n",
      "-rw-rw-r-- 1 is6 is6  18K Jul  1 10:25 Polaromonas.fasta\r\n",
      "-rw-rw-r-- 1 is6 is6  26K Jul  1 10:26 Sorangium.fasta\r\n",
      "-rw-rw-r-- 1 is6 is6  48K Jul  1 10:26 Chitinophaga.fasta\r\n",
      "-rw-rw-r-- 1 is6 is6 1.6K Jul  1 10:26 Conexibacter.fasta\r\n",
      "-rw-rw-r-- 1 is6 is6  46K Jul  1 10:26 Variovorax.fasta\r\n",
      "-rw-rw-r-- 1 is6 is6 143K Jul  1 10:31 16s_database.fasta\r\n"
     ]
    }
   ],
   "source": [
    "#checking directory files\n",
    "!ls -ltrh 16s_database"
   ]
  }
 ],
 "metadata": {
  "kernelspec": {
   "display_name": "Python 3",
   "language": "python",
   "name": "python3"
  },
  "language_info": {
   "codemirror_mode": {
    "name": "ipython",
    "version": 3
   },
   "file_extension": ".py",
   "mimetype": "text/x-python",
   "name": "python",
   "nbconvert_exporter": "python",
   "pygments_lexer": "ipython3",
   "version": "3.6.7"
  }
 },
 "nbformat": 4,
 "nbformat_minor": 2
}
