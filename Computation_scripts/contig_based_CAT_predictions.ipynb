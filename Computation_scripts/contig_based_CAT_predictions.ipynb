{
 "cells": [
  {
   "cell_type": "code",
   "execution_count": 1,
   "metadata": {},
   "outputs": [],
   "source": [
    "import os\n",
    "os.chdir(\"/home/is6/SolidBin/CAT_taxonomic_classification/sp/input_sp\")"
   ]
  },
  {
   "cell_type": "code",
   "execution_count": 2,
   "metadata": {},
   "outputs": [],
   "source": [
    "import typing as t \n",
    "from glob import glob\n",
    "\n",
    "import pandas as pd\n",
    "import numpy as np\n",
    "from Bio import SeqIO\n",
    "from Bio.SeqRecord import SeqRecord\n",
    "\n",
    "%matplotlib inline\n",
    "\n"
   ]
  },
  {
   "cell_type": "code",
   "execution_count": 3,
   "metadata": {},
   "outputs": [
    {
     "data": {
      "text/plain": [
       "dict_keys(['chz', 'sp'])"
      ]
     },
     "execution_count": 3,
     "metadata": {},
     "output_type": "execute_result"
    }
   ],
   "source": [
    "gh_path = '/home/is6/glyco/annotations.tsv'\n",
    "\n",
    "gh_matches = {\n",
    "    # `sample` is either 'chz' or 'sp'\n",
    "    sample: grp for sample, grp in pd.read_csv(gh_path, sep='\\t').groupby('sample')\n",
    "}\n",
    "gh_matches.keys()"
   ]
  },
  {
   "cell_type": "code",
   "execution_count": 4,
   "metadata": {},
   "outputs": [],
   "source": [
    "annotation_root = '/home/is6/annotation'\n",
    "\n",
    "annotations = {\n",
    "    sample: list(SeqIO.parse(glob(f'{annotation_root}/{sample}/*.gbk')[0], 'gb')) \n",
    "    for sample in gh_matches\n",
    "}\n",
    "\n",
    "gh_loci = {\n",
    "    sample: set(grp['query']) for sample, grp in gh_matches.items()\n",
    "}"
   ]
  },
  {
   "cell_type": "code",
   "execution_count": 5,
   "metadata": {},
   "outputs": [],
   "source": [
    "def extract_cds_loci(contig: SeqRecord) -> t.Set[str]:\n",
    "    features = contig.features\n",
    "    # extract cds locus tags\n",
    "    loci = (feat.qualifiers['locus_tag'][0] \n",
    "            for feat in features if feat.type == 'CDS')\n",
    "    return set(loci)\n",
    "\n",
    "\n",
    "# calculate contig length for each contig if its set of loci intersects with known gh loci\n",
    "contig_features = {\n",
    "    sample: pd.DataFrame.from_records([\n",
    "        {'label': contig.id,\n",
    "         'length': len(contig)}\n",
    "        for contig in contigs\n",
    "        if bool(extract_cds_loci(contig) & gh_loci[sample])\n",
    "    ])\n",
    "    for sample, contigs in annotations.items()\n",
    "}"
   ]
  },
  {
   "cell_type": "code",
   "execution_count": 6,
   "metadata": {
    "scrolled": true
   },
   "outputs": [
    {
     "name": "stdout",
     "output_type": "stream",
     "text": [
      "0     contig_1004\n",
      "1     contig_1027\n",
      "2     contig_1106\n",
      "3     contig_1128\n",
      "4     contig_1167\n",
      "5     contig_1168\n",
      "6     contig_1180\n",
      "7     contig_1198\n",
      "8     contig_1229\n",
      "9     contig_1238\n",
      "10    contig_1311\n",
      "11    contig_1332\n",
      "12    contig_1381\n",
      "13    contig_1387\n",
      "14    contig_1431\n",
      "15    contig_1434\n",
      "16     contig_144\n",
      "17    contig_1457\n",
      "18     contig_146\n",
      "19    contig_1460\n",
      "20    contig_1464\n",
      "21    contig_1500\n",
      "22     contig_156\n",
      "23    contig_1645\n",
      "24    contig_1673\n",
      "25    contig_1681\n",
      "26    contig_1693\n",
      "27    contig_1723\n",
      "28    contig_1764\n",
      "29    contig_1903\n",
      "30    contig_1916\n",
      "31    contig_1941\n",
      "32    contig_1949\n",
      "33    contig_1951\n",
      "34       contig_2\n",
      "35     contig_200\n",
      "36    contig_2012\n",
      "37    contig_2094\n",
      "38    contig_2098\n",
      "39      contig_22\n",
      "40    contig_2251\n",
      "41    contig_2253\n",
      "42    contig_2327\n",
      "43    contig_2353\n",
      "44    contig_2383\n",
      "45    contig_2418\n",
      "46    contig_2426\n",
      "47    contig_2492\n",
      "48    contig_2535\n",
      "49    contig_2627\n",
      "50    contig_2891\n",
      "51     contig_293\n",
      "52    contig_3070\n",
      "53     contig_308\n",
      "Name: label, dtype: object\n"
     ]
    }
   ],
   "source": [
    "# these are positive Gh matches for chz\n",
    "print(contig_features['chz'].label)"
   ]
  },
  {
   "cell_type": "code",
   "execution_count": 7,
   "metadata": {},
   "outputs": [
    {
     "name": "stderr",
     "output_type": "stream",
     "text": [
      "/home/anaconda/conda/envs/students/lib/python3.6/site-packages/ipykernel_launcher.py:1: FutureWarning: read_table is deprecated, use read_csv instead, passing sep='\\t'.\n",
      "  \"\"\"Entry point for launching an IPython kernel.\n"
     ]
    }
   ],
   "source": [
    "\n",
    "annotation_file_sp=pd.read_table(\"/home/is6/SolidBin/CAT_taxonomic_classification/sp/contigs_taxonomy_noscores.tsv\"\n",
    "                                 \n",
    "                                 )\n",
    "#list(dataframe.columns.values)"
   ]
  },
  {
   "cell_type": "code",
   "execution_count": 8,
   "metadata": {},
   "outputs": [],
   "source": [
    "GH_contigs= pd.DataFrame(contig_features['sp'].label)\n",
    "#list(GH_contigs.columns.values)"
   ]
  },
  {
   "cell_type": "code",
   "execution_count": 9,
   "metadata": {
    "scrolled": true
   },
   "outputs": [
    {
     "data": {
      "text/html": [
       "<div>\n",
       "<style scoped>\n",
       "    .dataframe tbody tr th:only-of-type {\n",
       "        vertical-align: middle;\n",
       "    }\n",
       "\n",
       "    .dataframe tbody tr th {\n",
       "        vertical-align: top;\n",
       "    }\n",
       "\n",
       "    .dataframe thead th {\n",
       "        text-align: right;\n",
       "    }\n",
       "</style>\n",
       "<table border=\"1\" class=\"dataframe\">\n",
       "  <thead>\n",
       "    <tr style=\"text-align: right;\">\n",
       "      <th></th>\n",
       "      <th>label</th>\n",
       "    </tr>\n",
       "  </thead>\n",
       "  <tbody>\n",
       "    <tr>\n",
       "      <th>0</th>\n",
       "      <td>contig_1014</td>\n",
       "    </tr>\n",
       "    <tr>\n",
       "      <th>1</th>\n",
       "      <td>contig_1089</td>\n",
       "    </tr>\n",
       "    <tr>\n",
       "      <th>2</th>\n",
       "      <td>contig_1109</td>\n",
       "    </tr>\n",
       "    <tr>\n",
       "      <th>3</th>\n",
       "      <td>contig_1147</td>\n",
       "    </tr>\n",
       "    <tr>\n",
       "      <th>4</th>\n",
       "      <td>contig_1149</td>\n",
       "    </tr>\n",
       "  </tbody>\n",
       "</table>\n",
       "</div>"
      ],
      "text/plain": [
       "         label\n",
       "0  contig_1014\n",
       "1  contig_1089\n",
       "2  contig_1109\n",
       "3  contig_1147\n",
       "4  contig_1149"
      ]
     },
     "execution_count": 9,
     "metadata": {},
     "output_type": "execute_result"
    }
   ],
   "source": [
    "GH_contigs.head()"
   ]
  },
  {
   "cell_type": "code",
   "execution_count": 10,
   "metadata": {
    "scrolled": false
   },
   "outputs": [
    {
     "data": {
      "text/html": [
       "<div>\n",
       "<style scoped>\n",
       "    .dataframe tbody tr th:only-of-type {\n",
       "        vertical-align: middle;\n",
       "    }\n",
       "\n",
       "    .dataframe tbody tr th {\n",
       "        vertical-align: top;\n",
       "    }\n",
       "\n",
       "    .dataframe thead th {\n",
       "        text-align: right;\n",
       "    }\n",
       "</style>\n",
       "<table border=\"1\" class=\"dataframe\">\n",
       "  <thead>\n",
       "    <tr style=\"text-align: right;\">\n",
       "      <th></th>\n",
       "      <th># contig</th>\n",
       "      <th>classification</th>\n",
       "      <th>number of ORFs on contig</th>\n",
       "      <th>number of ORFs classification is based on</th>\n",
       "      <th>lineage</th>\n",
       "      <th>lineage scores</th>\n",
       "      <th>superkingdom</th>\n",
       "      <th>phylum</th>\n",
       "      <th>class</th>\n",
       "      <th>order</th>\n",
       "      <th>family</th>\n",
       "      <th>genus</th>\n",
       "      <th>species</th>\n",
       "    </tr>\n",
       "  </thead>\n",
       "  <tbody>\n",
       "    <tr>\n",
       "      <th>0</th>\n",
       "      <td>contig_1</td>\n",
       "      <td>classified</td>\n",
       "      <td>27.0</td>\n",
       "      <td>14.0</td>\n",
       "      <td>1;131567;2;1224</td>\n",
       "      <td>1.00;0.83;0.83;0.67</td>\n",
       "      <td>Bacteria</td>\n",
       "      <td>Proteobacteria</td>\n",
       "      <td>not classified</td>\n",
       "      <td>not classified</td>\n",
       "      <td>not classified</td>\n",
       "      <td>not classified</td>\n",
       "      <td>not classified</td>\n",
       "    </tr>\n",
       "    <tr>\n",
       "      <th>1</th>\n",
       "      <td>contig_10</td>\n",
       "      <td>classified</td>\n",
       "      <td>38.0</td>\n",
       "      <td>14.0</td>\n",
       "      <td>1;131567;2</td>\n",
       "      <td>1.00;1.00;0.95</td>\n",
       "      <td>Bacteria</td>\n",
       "      <td>not classified</td>\n",
       "      <td>not classified</td>\n",
       "      <td>not classified</td>\n",
       "      <td>not classified</td>\n",
       "      <td>not classified</td>\n",
       "      <td>not classified</td>\n",
       "    </tr>\n",
       "    <tr>\n",
       "      <th>2</th>\n",
       "      <td>contig_100</td>\n",
       "      <td>classified</td>\n",
       "      <td>31.0</td>\n",
       "      <td>25.0</td>\n",
       "      <td>1;131567;2;1224</td>\n",
       "      <td>1.00;0.93;0.91;0.71</td>\n",
       "      <td>Bacteria</td>\n",
       "      <td>Proteobacteria</td>\n",
       "      <td>not classified</td>\n",
       "      <td>not classified</td>\n",
       "      <td>not classified</td>\n",
       "      <td>not classified</td>\n",
       "      <td>not classified</td>\n",
       "    </tr>\n",
       "    <tr>\n",
       "      <th>3</th>\n",
       "      <td>contig_1000</td>\n",
       "      <td>classified</td>\n",
       "      <td>48.0</td>\n",
       "      <td>21.0</td>\n",
       "      <td>1;131567;2</td>\n",
       "      <td>1.00;1.00;0.96</td>\n",
       "      <td>Bacteria</td>\n",
       "      <td>not classified</td>\n",
       "      <td>not classified</td>\n",
       "      <td>not classified</td>\n",
       "      <td>not classified</td>\n",
       "      <td>not classified</td>\n",
       "      <td>not classified</td>\n",
       "    </tr>\n",
       "    <tr>\n",
       "      <th>4</th>\n",
       "      <td>contig_1001</td>\n",
       "      <td>classified</td>\n",
       "      <td>37.0</td>\n",
       "      <td>33.0</td>\n",
       "      <td>1;131567;2</td>\n",
       "      <td>1.00;1.00;0.94</td>\n",
       "      <td>Bacteria</td>\n",
       "      <td>not classified</td>\n",
       "      <td>not classified</td>\n",
       "      <td>not classified</td>\n",
       "      <td>not classified</td>\n",
       "      <td>not classified</td>\n",
       "      <td>not classified</td>\n",
       "    </tr>\n",
       "  </tbody>\n",
       "</table>\n",
       "</div>"
      ],
      "text/plain": [
       "      # contig classification  number of ORFs on contig  \\\n",
       "0     contig_1     classified                      27.0   \n",
       "1    contig_10     classified                      38.0   \n",
       "2   contig_100     classified                      31.0   \n",
       "3  contig_1000     classified                      48.0   \n",
       "4  contig_1001     classified                      37.0   \n",
       "\n",
       "   number of ORFs classification is based on          lineage  \\\n",
       "0                                       14.0  1;131567;2;1224   \n",
       "1                                       14.0       1;131567;2   \n",
       "2                                       25.0  1;131567;2;1224   \n",
       "3                                       21.0       1;131567;2   \n",
       "4                                       33.0       1;131567;2   \n",
       "\n",
       "        lineage scores superkingdom          phylum           class  \\\n",
       "0  1.00;0.83;0.83;0.67     Bacteria  Proteobacteria  not classified   \n",
       "1       1.00;1.00;0.95     Bacteria  not classified  not classified   \n",
       "2  1.00;0.93;0.91;0.71     Bacteria  Proteobacteria  not classified   \n",
       "3       1.00;1.00;0.96     Bacteria  not classified  not classified   \n",
       "4       1.00;1.00;0.94     Bacteria  not classified  not classified   \n",
       "\n",
       "            order          family           genus         species  \n",
       "0  not classified  not classified  not classified  not classified  \n",
       "1  not classified  not classified  not classified  not classified  \n",
       "2  not classified  not classified  not classified  not classified  \n",
       "3  not classified  not classified  not classified  not classified  \n",
       "4  not classified  not classified  not classified  not classified  "
      ]
     },
     "execution_count": 10,
     "metadata": {},
     "output_type": "execute_result"
    }
   ],
   "source": [
    "annotation_file_sp.head()\n"
   ]
  },
  {
   "cell_type": "code",
   "execution_count": 11,
   "metadata": {},
   "outputs": [],
   "source": [
    "annotation_file_sp.rename(columns={'# contig':'label'}, inplace=True)"
   ]
  },
  {
   "cell_type": "code",
   "execution_count": 12,
   "metadata": {},
   "outputs": [],
   "source": [
    "\n",
    "\n",
    "new = pd.merge(GH_contigs, annotation_file_sp, on=\"label\")"
   ]
  },
  {
   "cell_type": "code",
   "execution_count": 13,
   "metadata": {},
   "outputs": [
    {
     "data": {
      "text/html": [
       "<div>\n",
       "<style scoped>\n",
       "    .dataframe tbody tr th:only-of-type {\n",
       "        vertical-align: middle;\n",
       "    }\n",
       "\n",
       "    .dataframe tbody tr th {\n",
       "        vertical-align: top;\n",
       "    }\n",
       "\n",
       "    .dataframe thead th {\n",
       "        text-align: right;\n",
       "    }\n",
       "</style>\n",
       "<table border=\"1\" class=\"dataframe\">\n",
       "  <thead>\n",
       "    <tr style=\"text-align: right;\">\n",
       "      <th></th>\n",
       "      <th>label</th>\n",
       "      <th>classification</th>\n",
       "      <th>number of ORFs on contig</th>\n",
       "      <th>number of ORFs classification is based on</th>\n",
       "      <th>lineage</th>\n",
       "      <th>lineage scores</th>\n",
       "      <th>superkingdom</th>\n",
       "      <th>phylum</th>\n",
       "      <th>class</th>\n",
       "      <th>order</th>\n",
       "      <th>family</th>\n",
       "      <th>genus</th>\n",
       "      <th>species</th>\n",
       "    </tr>\n",
       "  </thead>\n",
       "  <tbody>\n",
       "    <tr>\n",
       "      <th>0</th>\n",
       "      <td>contig_1014</td>\n",
       "      <td>classified</td>\n",
       "      <td>47.0</td>\n",
       "      <td>27.0</td>\n",
       "      <td>1;131567;2;1224</td>\n",
       "      <td>1.00;1.00;1.00;0.57</td>\n",
       "      <td>Bacteria</td>\n",
       "      <td>Proteobacteria</td>\n",
       "      <td>not classified</td>\n",
       "      <td>not classified</td>\n",
       "      <td>not classified</td>\n",
       "      <td>not classified</td>\n",
       "      <td>not classified</td>\n",
       "    </tr>\n",
       "    <tr>\n",
       "      <th>1</th>\n",
       "      <td>contig_1089</td>\n",
       "      <td>classified</td>\n",
       "      <td>40.0</td>\n",
       "      <td>23.0</td>\n",
       "      <td>1;131567;2;1224;28211;356;45401</td>\n",
       "      <td>1.00;1.00;0.92;0.92;0.76;0.61;0.57</td>\n",
       "      <td>Bacteria</td>\n",
       "      <td>Proteobacteria</td>\n",
       "      <td>Alphaproteobacteria</td>\n",
       "      <td>Rhizobiales</td>\n",
       "      <td>Hyphomicrobiaceae</td>\n",
       "      <td>not classified</td>\n",
       "      <td>not classified</td>\n",
       "    </tr>\n",
       "    <tr>\n",
       "      <th>2</th>\n",
       "      <td>contig_1109</td>\n",
       "      <td>classified</td>\n",
       "      <td>26.0</td>\n",
       "      <td>15.0</td>\n",
       "      <td>1;131567;2759</td>\n",
       "      <td>1.00;1.00;0.58</td>\n",
       "      <td>Eukaryota</td>\n",
       "      <td>not classified</td>\n",
       "      <td>not classified</td>\n",
       "      <td>not classified</td>\n",
       "      <td>not classified</td>\n",
       "      <td>not classified</td>\n",
       "      <td>not classified</td>\n",
       "    </tr>\n",
       "    <tr>\n",
       "      <th>3</th>\n",
       "      <td>contig_1147</td>\n",
       "      <td>classified</td>\n",
       "      <td>36.0</td>\n",
       "      <td>24.0</td>\n",
       "      <td>1;131567;2</td>\n",
       "      <td>1.00;1.00;0.96</td>\n",
       "      <td>Bacteria</td>\n",
       "      <td>not classified</td>\n",
       "      <td>not classified</td>\n",
       "      <td>not classified</td>\n",
       "      <td>not classified</td>\n",
       "      <td>not classified</td>\n",
       "      <td>not classified</td>\n",
       "    </tr>\n",
       "    <tr>\n",
       "      <th>4</th>\n",
       "      <td>contig_1149</td>\n",
       "      <td>classified</td>\n",
       "      <td>52.0</td>\n",
       "      <td>34.0</td>\n",
       "      <td>1;131567;2;1783272;201174</td>\n",
       "      <td>1.00;1.00;0.99;0.81;0.77</td>\n",
       "      <td>Bacteria</td>\n",
       "      <td>Actinobacteria</td>\n",
       "      <td>not classified</td>\n",
       "      <td>not classified</td>\n",
       "      <td>not classified</td>\n",
       "      <td>not classified</td>\n",
       "      <td>not classified</td>\n",
       "    </tr>\n",
       "  </tbody>\n",
       "</table>\n",
       "</div>"
      ],
      "text/plain": [
       "         label classification  number of ORFs on contig  \\\n",
       "0  contig_1014     classified                      47.0   \n",
       "1  contig_1089     classified                      40.0   \n",
       "2  contig_1109     classified                      26.0   \n",
       "3  contig_1147     classified                      36.0   \n",
       "4  contig_1149     classified                      52.0   \n",
       "\n",
       "   number of ORFs classification is based on                          lineage  \\\n",
       "0                                       27.0                  1;131567;2;1224   \n",
       "1                                       23.0  1;131567;2;1224;28211;356;45401   \n",
       "2                                       15.0                    1;131567;2759   \n",
       "3                                       24.0                       1;131567;2   \n",
       "4                                       34.0        1;131567;2;1783272;201174   \n",
       "\n",
       "                       lineage scores superkingdom          phylum  \\\n",
       "0                 1.00;1.00;1.00;0.57     Bacteria  Proteobacteria   \n",
       "1  1.00;1.00;0.92;0.92;0.76;0.61;0.57     Bacteria  Proteobacteria   \n",
       "2                      1.00;1.00;0.58    Eukaryota  not classified   \n",
       "3                      1.00;1.00;0.96     Bacteria  not classified   \n",
       "4            1.00;1.00;0.99;0.81;0.77     Bacteria  Actinobacteria   \n",
       "\n",
       "                 class           order             family           genus  \\\n",
       "0       not classified  not classified     not classified  not classified   \n",
       "1  Alphaproteobacteria     Rhizobiales  Hyphomicrobiaceae  not classified   \n",
       "2       not classified  not classified     not classified  not classified   \n",
       "3       not classified  not classified     not classified  not classified   \n",
       "4       not classified  not classified     not classified  not classified   \n",
       "\n",
       "          species  \n",
       "0  not classified  \n",
       "1  not classified  \n",
       "2  not classified  \n",
       "3  not classified  \n",
       "4  not classified  "
      ]
     },
     "execution_count": 13,
     "metadata": {},
     "output_type": "execute_result"
    }
   ],
   "source": [
    "new.head()"
   ]
  },
  {
   "cell_type": "code",
   "execution_count": 14,
   "metadata": {},
   "outputs": [],
   "source": [
    "new.to_csv('/home/is6/sp_annotation', index=False)"
   ]
  },
  {
   "cell_type": "code",
   "execution_count": 15,
   "metadata": {
    "scrolled": true
   },
   "outputs": [
    {
     "name": "stdout",
     "output_type": "stream",
     "text": [
      "label,classification,number of ORFs on contig,number of ORFs classification is based on,lineage,lineage scores,superkingdom,phylum,class,order,family,genus,species\r\n",
      "contig_1014,classified,47.0,27.0,1;131567;2;1224,1.00;1.00;1.00;0.57,Bacteria,Proteobacteria,not classified,not classified,not classified,not classified,not classified\r\n",
      "contig_1089,classified,40.0,23.0,1;131567;2;1224;28211;356;45401,1.00;1.00;0.92;0.92;0.76;0.61;0.57,Bacteria,Proteobacteria,Alphaproteobacteria,Rhizobiales,Hyphomicrobiaceae,not classified,not classified\r\n",
      "contig_1109,classified,26.0,15.0,1;131567;2759,1.00;1.00;0.58,Eukaryota,not classified,not classified,not classified,not classified,not classified,not classified\r\n",
      "contig_1147,classified,36.0,24.0,1;131567;2,1.00;1.00;0.96,Bacteria,not classified,not classified,not classified,not classified,not classified,not classified\r\n",
      "contig_1149,classified,52.0,34.0,1;131567;2;1783272;201174,1.00;1.00;0.99;0.81;0.77,Bacteria,Actinobacteria,not classified,not classified,not classified,not classified,not classified\r\n",
      "contig_118,classified,27.0,19.0,1;131567;2,1.00;0.69;0.63,Bacteria,not classified,not classified,not classified,not classified,not classified,not classified\r\n",
      "contig_1187,classified,32.0,15.0,1;131567;2,1.00;1.00;1.00,Bacteria,not classified,not classified,not classified,not classified,not classified,not classified\r\n",
      "contig_1223,classified,52.0,35.0,1;131567;2;1224;28211,1.00;1.00;1.00;0.95;0.88,Bacteria,Proteobacteria,Alphaproteobacteria,not classified,not classified,not classified,not classified\r\n",
      "contig_1240,classified,35.0,16.0,1;131567;2,1.00;0.88;0.84,Bacteria,not classified,not classified,not classified,not classified,not classified,not classified\r\n"
     ]
    }
   ],
   "source": [
    "!head /home/is6/sp_annotation\n"
   ]
  },
  {
   "cell_type": "markdown",
   "metadata": {},
   "source": [
    "# repeating steps for sp sample"
   ]
  },
  {
   "cell_type": "code",
   "execution_count": 16,
   "metadata": {},
   "outputs": [
    {
     "name": "stderr",
     "output_type": "stream",
     "text": [
      "/home/anaconda/conda/envs/students/lib/python3.6/site-packages/ipykernel_launcher.py:1: FutureWarning: read_table is deprecated, use read_csv instead, passing sep='\\t'.\n",
      "  \"\"\"Entry point for launching an IPython kernel.\n"
     ]
    }
   ],
   "source": [
    "annotation_file_chz=pd.read_table(\"/home/is6/SolidBin/CAT_taxonomic_classification/chz/contigs_taxonomy_noscores.tsv\"\n",
    "                                 \n",
    "                                 )\n",
    "#list(dataframe.columns.values)"
   ]
  },
  {
   "cell_type": "code",
   "execution_count": 18,
   "metadata": {},
   "outputs": [],
   "source": [
    "GH_contigs = pd.DataFrame(contig_features['chz'].label)\n",
    "#list(GH_contigs.columns.values)"
   ]
  },
  {
   "cell_type": "code",
   "execution_count": 19,
   "metadata": {},
   "outputs": [],
   "source": [
    "annotation_file_chz.rename(columns={'# contig':'label'}, inplace=True)"
   ]
  },
  {
   "cell_type": "code",
   "execution_count": 20,
   "metadata": {},
   "outputs": [],
   "source": [
    "new_chz = pd.merge(GH_contigs, annotation_file_chz, on=\"label\")"
   ]
  },
  {
   "cell_type": "code",
   "execution_count": 21,
   "metadata": {},
   "outputs": [],
   "source": [
    "new_chz.to_csv('/home/is6/chz_annotation', index=False)"
   ]
  },
  {
   "cell_type": "code",
   "execution_count": 22,
   "metadata": {},
   "outputs": [
    {
     "name": "stdout",
     "output_type": "stream",
     "text": [
      "label,classification,number of ORFs on contig,number of ORFs classification is based on,lineage,lineage scores,superkingdom,phylum,class,order,family,genus,species\r\n",
      "contig_1004,classified,46.0,31.0,1;131567;2;1224;28211,1.00;1.00;0.97;0.75;0.68,Bacteria,Proteobacteria,Alphaproteobacteria,not classified,not classified,not classified,not classified\r\n",
      "contig_1027,classified,41.0,12.0,1;131567;2;1783257;74201,1.00;1.00;1.00;0.69;0.69,Bacteria,Verrucomicrobia,not classified,not classified,not classified,not classified,not classified\r\n",
      "contig_1106,classified,92.0,71.0,1;131567;2;1224;28211,1.00;0.99;0.93;0.77;0.57,Bacteria,Proteobacteria,Alphaproteobacteria,not classified,not classified,not classified,not classified\r\n",
      "contig_1128,classified,47.0,37.0,1;131567;2,1.00;1.00;0.96,Bacteria,not classified,not classified,not classified,not classified,not classified,not classified\r\n",
      "contig_1167,classified,29.0,25.0,1;131567;2;1224;28211,1.00;1.00;1.00;0.64;0.64,Bacteria,Proteobacteria,Alphaproteobacteria,not classified,not classified,not classified,not classified\r\n",
      "contig_1168,classified,11.0,2.0,1;131567;2;1224;68525;28221;45456;122706;2026735,1.00;1.00;1.00;0.52;0.52;0.52;0.52;0.52;0.52,Bacteria,Proteobacteria,Deltaproteobacteria,,,,Deltaproteobacteria bacterium\r\n",
      "contig_1180,classified,29.0,23.0,1;131567;2,1.00;0.96;0.96,Bacteria,not classified,not classified,not classified,not classified,not classified,not classified\r\n",
      "contig_1198,classified,52.0,39.0,1;131567;2;1224;1236,1.00;1.00;0.94;0.81;0.78,Bacteria,Proteobacteria,Gammaproteobacteria,not classified,not classified,not classified,not classified\r\n",
      "contig_1229,classified,15.0,14.0,1;131567;2;1224;1236;135614,1.00;1.00;1.00;0.90;0.84;0.67,Bacteria,Proteobacteria,Gammaproteobacteria,Xanthomonadales,not classified,not classified,not classified\r\n"
     ]
    }
   ],
   "source": [
    "!head /home/is6/chz_annotation\n"
   ]
  },
  {
   "cell_type": "code",
   "execution_count": null,
   "metadata": {},
   "outputs": [],
   "source": []
  }
 ],
 "metadata": {
  "kernelspec": {
   "display_name": "Python 3",
   "language": "python",
   "name": "python3"
  },
  "language_info": {
   "codemirror_mode": {
    "name": "ipython",
    "version": 3
   },
   "file_extension": ".py",
   "mimetype": "text/x-python",
   "name": "python",
   "nbconvert_exporter": "python",
   "pygments_lexer": "ipython3",
   "version": "3.6.7"
  }
 },
 "nbformat": 4,
 "nbformat_minor": 2
}
