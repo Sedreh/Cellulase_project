{
 "cells": [
  {
   "cell_type": "code",
   "execution_count": null,
   "metadata": {},
   "outputs": [],
   "source": [
    "from Bio import SeqIO\n",
    "import sys\n",
    "#Usage : python extract_ids_fasta.py input.fasta list_ids.txt output.fasta\n",
    "input_file = sys.argv[1]\n",
    "id_file = sys.argv[2]\n",
    "output_file = sys.argv[3]\n",
    "wanted = set(line.rstrip(\"\\n\").split(None,1)[0] for line in open(id_file))\n",
    "print(\"Found %i unique identifiers in %s\" % (len(wanted), id_file))\n",
    "records = (r for r in SeqIO.parse(input_file, \"fasta\") if r.id in wanted)\n",
    "count = SeqIO.write(records, output_file, \"fasta\")\n",
    "print(\"Saved %i records from %s to %s\" % (count, input_file, output_file))\n",
    "if count < len(wanted):\n",
    "print(\"Warning %i IDs not found in %s\" % (len(wanted)-count, input_file))"
   ]
  },
  {
   "cell_type": "code",
   "execution_count": null,
   "metadata": {},
   "outputs": [],
   "source": [
    "#input.fasta: your assemble file ni fasta format\n",
    "#list_ids.txt: your list of contig ids, one per line\n",
    "#output.fasta: your output file\n"
   ]
  }
 ],
 "metadata": {
  "kernelspec": {
   "display_name": "Python 3",
   "language": "python",
   "name": "python3"
  },
  "language_info": {
   "codemirror_mode": {
    "name": "ipython",
    "version": 3
   },
   "file_extension": ".py",
   "mimetype": "text/x-python",
   "name": "python",
   "nbconvert_exporter": "python",
   "pygments_lexer": "ipython3",
   "version": "3.6.7"
  }
 },
 "nbformat": 4,
 "nbformat_minor": 2
}
