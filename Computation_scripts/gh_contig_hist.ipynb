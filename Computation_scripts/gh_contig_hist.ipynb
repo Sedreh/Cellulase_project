{
 "cells": [
  {
   "cell_type": "code",
   "execution_count": 1,
   "metadata": {},
   "outputs": [],
   "source": [
    "import os\n",
    "os.chdir(\"/home/is6/glyco\")"
   ]
  },
  {
   "cell_type": "code",
   "execution_count": 2,
   "metadata": {},
   "outputs": [],
   "source": [
    "import typing as t \n",
    "from glob import glob\n",
    "\n",
    "import pandas as pd\n",
    "import numpy as np\n",
    "from Bio import SeqIO\n",
    "from Bio.SeqRecord import SeqRecord\n",
    "\n",
    "%matplotlib inline"
   ]
  },
  {
   "cell_type": "code",
   "execution_count": 3,
   "metadata": {},
   "outputs": [
    {
     "data": {
      "text/plain": [
       "dict_keys(['chz', 'sp'])"
      ]
     },
     "execution_count": 3,
     "metadata": {},
     "output_type": "execute_result"
    }
   ],
   "source": [
    "gh_path = 'annotations.tsv'\n",
    "\n",
    "gh_matches = {\n",
    "    # `sample` is either 'chz' or 'sp'\n",
    "    sample: grp for sample, grp in pd.read_csv(gh_path, sep='\\t').groupby('sample')\n",
    "}\n",
    "gh_matches.keys()"
   ]
  },
  {
   "cell_type": "code",
   "execution_count": 4,
   "metadata": {},
   "outputs": [],
   "source": [
    "annotation_root = '/home/is6/annotation'\n",
    "\n",
    "annotations = {\n",
    "    sample: list(SeqIO.parse(glob(f'{annotation_root}/{sample}/*.gbk')[0], 'gb')) \n",
    "    for sample in gh_matches\n",
    "}\n",
    "\n",
    "gh_loci = {\n",
    "    sample: set(grp['query']) for sample, grp in gh_matches.items()\n",
    "}"
   ]
  },
  {
   "cell_type": "code",
   "execution_count": 5,
   "metadata": {},
   "outputs": [],
   "source": [
    "def extract_cds_loci(contig: SeqRecord) -> t.Set[str]:\n",
    "    features = contig.features\n",
    "    # extract cds locus tags\n",
    "    loci = (feat.qualifiers['locus_tag'][0] \n",
    "            for feat in features if feat.type == 'CDS')\n",
    "    return set(loci)\n",
    "\n",
    "\n",
    "# calculate contig length for each contig if its set of loci intersects with known gh loci\n",
    "contig_features = {\n",
    "    sample: pd.DataFrame.from_records([\n",
    "        {'label': contig.id,\n",
    "         'length': len(contig)}\n",
    "        for contig in contigs\n",
    "        if bool(extract_cds_loci(contig) & gh_loci[sample])\n",
    "    ])\n",
    "    for sample, contigs in annotations.items()\n",
    "}\n",
    "\n",
    "# filter contigs with"
   ]
  },
  {
   "cell_type": "code",
   "execution_count": 6,
   "metadata": {},
   "outputs": [
    {
     "data": {
      "text/plain": [
       "<matplotlib.axes._subplots.AxesSubplot at 0x7f0e86590240>"
      ]
     },
     "execution_count": 6,
     "metadata": {},
     "output_type": "execute_result"
    },
    {
     "data": {
      "image/png": "[encoded data removed]",
      "text/plain": [
       "<Figure size 432x288 with 1 Axes>"
      ]
     },
     "metadata": {
      "needs_background": "light"
     },
     "output_type": "display_data"
    }
   ],
   "source": [
    "contig_features['chz']['length'].apply(lambda x: np.log(x) / np.log(10)).hist(bins=20)"
   ]
  },
  {
   "cell_type": "code",
   "execution_count": 7,
   "metadata": {},
   "outputs": [
    {
     "data": {
      "text/plain": [
       "<matplotlib.axes._subplots.AxesSubplot at 0x7f0f09369780>"
      ]
     },
     "execution_count": 7,
     "metadata": {},
     "output_type": "execute_result"
    },
    {
     "data": {
      "image/png": "[encoded data removed]",
      "text/plain": [
       "<Figure size 432x288 with 1 Axes>"
      ]
     },
     "metadata": {
      "needs_background": "light"
     },
     "output_type": "display_data"
    }
   ],
   "source": [
    "contig_features['sp']['length'].apply(lambda x: np.log(x) / np.log(10)).hist(bins=20)"
   ]
  },
  {
   "cell_type": "code",
   "execution_count": null,
   "metadata": {},
   "outputs": [],
   "source": []
  }
 ],
 "metadata": {
  "kernelspec": {
   "display_name": "Python 3",
   "language": "python",
   "name": "python3"
  },
  "language_info": {
   "codemirror_mode": {
    "name": "ipython",
    "version": 3
   },
   "file_extension": ".py",
   "mimetype": "text/x-python",
   "name": "python",
   "nbconvert_exporter": "python",
   "pygments_lexer": "ipython3",
   "version": "3.6.7"
  }
 },
 "nbformat": 4,
 "nbformat_minor": 2
}
