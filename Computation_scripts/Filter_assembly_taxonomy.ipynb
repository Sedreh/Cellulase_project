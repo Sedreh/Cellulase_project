{
 "cells": [
  {
   "cell_type": "code",
   "execution_count": 5,
   "metadata": {},
   "outputs": [],
   "source": [
    "import os\n",
    "import pandas as pd\n",
    "from Bio import SeqIO"
   ]
  },
  {
   "cell_type": "code",
   "execution_count": 6,
   "metadata": {},
   "outputs": [],
   "source": [
    "os.chdir(\"/home/is6/SolidBin/CAT_taxonomic_classification\")"
   ]
  },
  {
   "cell_type": "code",
   "execution_count": 9,
   "metadata": {},
   "outputs": [
    {
     "name": "stdout",
     "output_type": "stream",
     "text": [
      "\u001b[0m\u001b[01;34mchz\u001b[0m/  first_CAT_run.log  \u001b[01;34mprevious_results\u001b[0m/  \u001b[01;34msp\u001b[0m/\r\n"
     ]
    }
   ],
   "source": [
    "\n"
   ]
  },
  {
   "cell_type": "code",
   "execution_count": 11,
   "metadata": {},
   "outputs": [],
   "source": [
    "assembly = 'chz/assembly.fasta'\n",
    " \n",
    "taxonomy = 'chz/contigs_classified.csv'\n",
    " \n",
    "# filter contigs by length\n",
    " \n",
    "contigs = SeqIO.parse(assembly, 'fasta')\n",
    " \n",
    "filtered = filter(lambda x: len(x) >= 1000, contigs) \n",
    " \n",
    "SeqIO.write(filtered, 'chz/input_chz/assembly_filt.fasta', 'fasta')\n",
    "\n",
    " \n",
    "# remove discarded contigs from CAT taxonomy annotations\n",
    " \n",
    "annotations = pd.read_csv(taxonomy, sep=',', header=None) \n",
    " \n",
    "contigs_selected = {seqrec.id for seqrec in SeqIO.parse('chz/input_chz/assembly_filt.fasta', 'fasta')} \n",
    " \n",
    "annotations_selected = annotations[annotations[0].isin(contigs_selected)] \n",
    " \n",
    "annotations_selected.to_csv('chz/input_chz/assembly_filt_classified.csv', sep=',', header=None, index=False) "
   ]
  },
  {
   "cell_type": "code",
   "execution_count": null,
   "metadata": {},
   "outputs": [],
   "source": []
  }
 ],
 "metadata": {
  "kernelspec": {
   "display_name": "Python 3",
   "language": "python",
   "name": "python3"
  },
  "language_info": {
   "codemirror_mode": {
    "name": "ipython",
    "version": 3
   },
   "file_extension": ".py",
   "mimetype": "text/x-python",
   "name": "python",
   "nbconvert_exporter": "python",
   "pygments_lexer": "ipython3",
   "version": "3.6.7"
  }
 },
 "nbformat": 4,
 "nbformat_minor": 2
}
