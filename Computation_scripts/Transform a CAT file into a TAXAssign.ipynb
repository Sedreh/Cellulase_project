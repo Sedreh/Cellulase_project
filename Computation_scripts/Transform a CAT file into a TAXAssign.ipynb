{
 "cells": [
  {
   "cell_type": "code",
   "execution_count": 1,
   "metadata": {},
   "outputs": [],
   "source": [
    "import os\n",
    "import pandas as pd                                                                                  "
   ]
  },
  {
   "cell_type": "code",
   "execution_count": 2,
   "metadata": {},
   "outputs": [],
   "source": [
    "os.chdir(\"/home/is6/SolidBin/CAT_taxonomic_classification\")"
   ]
  },
  {
   "cell_type": "code",
   "execution_count": 5,
   "metadata": {},
   "outputs": [],
   "source": [
    "\n",
    "NOT_CLASSIFIED = 'not classified'                                                                                 \n",
    "UNCLASSIFIED = '__Unclassified__'\n",
    "FILTERING_KEYS = ['genus'] # , 'species']\n",
    "USECOLS = ['# contig', 'phylum', 'class', 'order', 'family', 'genus', 'species']                    \n",
    "# transform output\n",
    "cat_transformed = (\n",
    "   pd.read_csv('chz/contigs_taxonomy_noscores.tsv', sep='\\t', usecols=USECOLS)\n",
    "   .fillna(NOT_CLASSIFIED)\n",
    "   .applymap(lambda x: x.rstrip('*').replace(NOT_CLASSIFIED, UNCLASSIFIED))\n",
    ")\n",
    "classified_mask = (cat_transformed[FILTERING_KEYS] != UNCLASSIFIED).all(axis=1)                                                                                                   \n",
    "cat_transformed[classified_mask].to_csv('chz/contigs_classified.csv', sep=',', header=None, index=None)\n"
   ]
  },
  {
   "cell_type": "code",
   "execution_count": 4,
   "metadata": {},
   "outputs": [],
   "source": [
    "NOT_CLASSIFIED = 'not classified'                                                                                 \n",
    "UNCLASSIFIED = '__Unclassified__'\n",
    "FILTERING_KEYS = ['genus'] # , 'species']\n",
    "USECOLS = ['# contig', 'phylum', 'class', 'order', 'family', 'genus', 'species']                    \n",
    "# transform output\n",
    "cat_transformed = (\n",
    "   pd.read_csv('sp/contigs_taxonomy_noscores.tsv', sep='\\t', usecols=USECOLS)\n",
    "   .fillna(NOT_CLASSIFIED)\n",
    "   .applymap(lambda x: x.rstrip('*').replace(NOT_CLASSIFIED, UNCLASSIFIED))\n",
    ")\n",
    "classified_mask = (cat_transformed[FILTERING_KEYS] != UNCLASSIFIED).all(axis=1)                                                                                                   \n",
    "cat_transformed[classified_mask].to_csv('sp/contigs_classified.csv', sep=',', header=None, index=None)\n"
   ]
  },
  {
   "cell_type": "code",
   "execution_count": null,
   "metadata": {},
   "outputs": [],
   "source": []
  }
 ],
 "metadata": {
  "kernelspec": {
   "display_name": "Python 3",
   "language": "python",
   "name": "python3"
  },
  "language_info": {
   "codemirror_mode": {
    "name": "ipython",
    "version": 3
   },
   "file_extension": ".py",
   "mimetype": "text/x-python",
   "name": "python",
   "nbconvert_exporter": "python",
   "pygments_lexer": "ipython3",
   "version": "3.6.7"
  }
 },
 "nbformat": 4,
 "nbformat_minor": 2
}
