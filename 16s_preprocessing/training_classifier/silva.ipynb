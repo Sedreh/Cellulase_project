{
 "cells": [
  {
   "cell_type": "code",
   "execution_count": 1,
   "metadata": {},
   "outputs": [],
   "source": [
    "import gzip\n",
    "import operator as op\n",
    "import typing as t\n",
    "from collections import Counter\n",
    "from itertools import chain, groupby, takewhile\n",
    "from concurrent.futures import ThreadPoolExecutor\n",
    "\n",
    "import regex as re\n",
    "import numpy as np\n",
    "import seaborn as sns\n",
    "import tqdm\n",
    "from Bio import SeqIO\n",
    "from Bio.Seq import Seq\n",
    "from Bio.Alphabet import generic_dna\n",
    "from Bio.SeqRecord import SeqRecord\n",
    "from fn import F, iters\n",
    "\n",
    "sns.set(color_codes=True)\n",
    "\n",
    "%matplotlib inline"
   ]
  },
  {
   "cell_type": "markdown",
   "metadata": {},
   "source": [
    "Region extraction utilities"
   ]
  },
  {
   "cell_type": "code",
   "execution_count": 49,
   "metadata": {},
   "outputs": [],
   "source": [
    "ALPHABET = {\n",
    "    'A': 'A',\n",
    "    'C': 'C',\n",
    "    'G': 'G',\n",
    "    'T': 'T',\n",
    "    'R': '[AG]',\n",
    "    'Y': '[CT]',\n",
    "    'S': '[GC]',\n",
    "    'W': '[AT]',\n",
    "    'K': '[GT]',\n",
    "    'M': '[AC]',\n",
    "    'B': '[CGT]',\n",
    "    'D': '[AGT]',\n",
    "    'H': '[ACT]',\n",
    "    'V': '[ACG]',\n",
    "    'N': '[ACGT]'\n",
    "}\n",
    "\n",
    "Primer = t.Callable[[str], t.Optional[t.Tuple[int, int]]]\n",
    "\n",
    "\n",
    "def mkprimer(substitutions: int, primer_sequence: str) -> Primer:\n",
    "    \"\"\"\n",
    "    Create a universal primer.\n",
    "    :param substitutions: the number of allowed mismatches\n",
    "    :param primer: An IUPAC-encoded primer sequence\n",
    "    :return: A callable that searches for the first occurrence of the primer\n",
    "             in a sequence and returns it's span (if found).\n",
    "    :raises ValueError: primer sequence contains non-IUPAC DNA characters.  \n",
    "    \"\"\"\n",
    "    try:\n",
    "        base = ''.join(ALPHABET[base] for base in primer_sequence)\n",
    "        fuzzy = f'{{s<={substitutions}}}' if substitutions else ''\n",
    "        pattern = re.compile(f'(:?{base}){fuzzy}', flags=re.BESTMATCH)\n",
    "    except KeyError as err:\n",
    "        raise ValueError(f'unknown base: {err}')\n",
    "    \n",
    "    def primer(sequence: str) -> Optional[Tuple[int, int]]:\n",
    "        match = pattern.search(sequence)\n",
    "        return match.span() if match else None\n",
    "    \n",
    "    return primer\n",
    "\n",
    "\n",
    "def extract_region(forward: Primer, reverse: Primer, seqrec: SeqRecord) -> t.Optional[SeqRecord]:\n",
    "    \"\"\"\n",
    "    Extract a region flanked by the primers \n",
    "    \"\"\"\n",
    "    try:\n",
    "        _, start = forward(str(seqrec.seq))\n",
    "        end, _ = reverse(str(seqrec.seq))\n",
    "    except TypeError: # can't find primers\n",
    "        return None\n",
    "    return seqrec[start:end]\n",
    "\n",
    "\n",
    "fwd_primer = mkprimer(2, 'CCTACGGGNGGCWGCAG')\n",
    "rev_primer = mkprimer(2, str(Seq('GACTACHVGGGTATCTAATCC', generic_dna).reverse_complement()))"
   ]
  },
  {
   "cell_type": "markdown",
   "metadata": {},
   "source": [
    "Read sequences, discard short records, extract the amplified region, discard failed records"
   ]
  },
  {
   "cell_type": "code",
   "execution_count": 50,
   "metadata": {},
   "outputs": [],
   "source": [
    "def back_transcribe(seqrec: SeqRecord) -> SeqRecord:\n",
    "    \"\"\"\n",
    "    Back-transcribe an RNA sequence record\n",
    "    \"\"\"\n",
    "    return SeqRecord(id=seqrec.id, name=seqrec.name, description=seqrec.description,\n",
    "                     seq=seqrec.seq.back_transcribe())\n",
    "\n",
    "def parse_taxonomy(seqrec: SeqRecord) -> t.List[str]:\n",
    "    \"\"\"\n",
    "    Parse taxonomy from SILVA sequence records\n",
    "    \"\"\"\n",
    "    return seqrec.description.split(' ', 1)[1].split(';')\n",
    "\n",
    "\n",
    "with gzip.open('/mnt/nas/storage/ilia/repsets/silva/v138/SILVA_138_SSURef_tax_silva.fasta.gz', 'rt') as silva_buffer:\n",
    "    with ThreadPoolExecutor(8) as workers:\n",
    "        silva_seqs = (\n",
    "            F(filter, lambda seqrec: 1100 <= len(seqrec) <= 1600) \n",
    "            >> (map, back_transcribe)  \n",
    "            >> (workers.map, F(extract_region, fwd_primer, rev_primer))  \n",
    "            >> (filter, bool)  \n",
    "            >> list\n",
    "        )(SeqIO.parse(silva_buffer, 'fasta'))"
   ]
  },
  {
   "cell_type": "markdown",
   "metadata": {},
   "source": [
    "Plot sequence length distribution"
   ]
  },
  {
   "cell_type": "code",
   "execution_count": 52,
   "metadata": {},
   "outputs": [],
   "source": [
    "silva_taxonomy = list(map(parse_taxonomy, silva_seqs))"
   ]
  },
  {
   "cell_type": "code",
   "execution_count": 53,
   "metadata": {},
   "outputs": [
    {
     "name": "stdout",
     "output_type": "stream",
     "text": [
      "579402 sequences left out of 1984125\n"
     ]
    }
   ],
   "source": [
    "stopwords = ['uncultured', 'unidentified', 'metagenome']\n",
    "taxlength = 7\n",
    "\n",
    "seqs_filt, taxa_filt = zip(*[\n",
    "    (seq, tax) for seq, tax in zip(silva_seqs, silva_taxonomy)\n",
    "    if len(tax) == taxlength and not any(word in tax[-1] for word in stopwords)\n",
    "])\n",
    "\n",
    "print(f'{len(seqs_filt)} sequences left out of {len(silva_seqs)}')"
   ]
  },
  {
   "cell_type": "code",
   "execution_count": 54,
   "metadata": {},
   "outputs": [
    {
     "data": {
      "text/plain": [
       "[('Bacillus', 56779),\n",
       " ('Pseudomonas', 31127),\n",
       " ('Staphylococcus', 26084),\n",
       " ('Streptomyces', 21775),\n",
       " ('Streptococcus', 21306),\n",
       " ('Escherichia-Shigella', 20514),\n",
       " ('Lactobacillus', 20444),\n",
       " ('Salmonella', 12583),\n",
       " ('Vibrio', 11624),\n",
       " ('Acinetobacter', 11530),\n",
       " ('Enterococcus', 11067),\n",
       " ('Mycobacterium', 10799),\n",
       " ('Klebsiella', 10117),\n",
       " ('Burkholderia-Caballeronia-Paraburkholderia', 8496),\n",
       " ('Enterobacter', 7582),\n",
       " ('Allorhizobium-Neorhizobium-Pararhizobium-Rhizobium', 6199),\n",
       " ('Paenibacillus', 5908),\n",
       " ('Aeromonas', 4642),\n",
       " ('Serratia', 4324),\n",
       " ('Microbacterium', 4172),\n",
       " ('Neisseria', 4043),\n",
       " ('Pseudoalteromonas', 4021),\n",
       " ('Campylobacter', 3779),\n",
       " ('Candidatus Phytoplasma', 3776),\n",
       " ('Bradyrhizobium', 3755),\n",
       " ('Stenotrophomonas', 3540),\n",
       " ('Listeria', 3446),\n",
       " ('Halomonas', 3411),\n",
       " ('Lactococcus', 3375),\n",
       " ('Pantoea', 3088),\n",
       " ('Flavobacterium', 2933),\n",
       " ('Rhodococcus', 2912),\n",
       " ('Corynebacterium', 2783),\n",
       " ('Micromonospora', 2648),\n",
       " ('Leuconostoc', 2643),\n",
       " ('Mesorhizobium', 2580),\n",
       " ('Clostridioides', 2546),\n",
       " ('uncultured', 2427),\n",
       " ('Lysinibacillus', 2385),\n",
       " ('Ensifer', 2321),\n",
       " ('Bacteroides', 2294),\n",
       " ('Arthrobacter', 2215),\n",
       " ('Shewanella', 2186),\n",
       " ('Bordetella', 1979),\n",
       " ('Sphingomonas', 1971),\n",
       " ('Citrobacter', 1906),\n",
       " ('Nocardia', 1903),\n",
       " ('Clostridium sensu stricto 1', 1866),\n",
       " ('Bifidobacterium', 1834),\n",
       " ('Xanthomonas', 1801)]"
      ]
     },
     "execution_count": 54,
     "metadata": {},
     "output_type": "execute_result"
    }
   ],
   "source": [
    "Counter(tax[5] for tax in taxa_filt).most_common(50)"
   ]
  },
  {
   "cell_type": "markdown",
   "metadata": {},
   "source": [
    "Rename sequences. Remove duplicates (a duplicate is a sequence with exactly the same taxonomy and sequence)."
   ]
  },
  {
   "cell_type": "code",
   "execution_count": 55,
   "metadata": {},
   "outputs": [],
   "source": [
    "renamed = [\n",
    "    SeqRecord(id=';'.join(['Root', *tax]), name='', description='', seq=seqrec.seq)\n",
    "    for seqrec, tax in zip(seqs_filt, taxa_filt)\n",
    "]\n",
    "\n",
    "# group records by taxonomy and sequence\n",
    "\n",
    "tax_groups = iters.group_by(lambda x: x.id, renamed)\n",
    "seq_groups = [iters.group_by(lambda x: x.seq, grp) for grp in tax_groups.values()]\n",
    "unique = list(chain.from_iterable([\n",
    "    [seq_grp[0] for seq_grp in tax_grp.values()]\n",
    "    for tax_grp in seq_groups\n",
    "]))"
   ]
  },
  {
   "cell_type": "markdown",
   "metadata": {},
   "source": [
    "Remove fragments that deviate too far from the common fragment length"
   ]
  },
  {
   "cell_type": "code",
   "execution_count": 8,
   "metadata": {},
   "outputs": [
    {
     "data": {
      "text/plain": [
       "[(350, 450)]"
      ]
     },
     "execution_count": 8,
     "metadata": {},
     "output_type": "execute_result"
    },
    {
     "data": {
      "image/png": "[encoded data removed]",
      "text/plain": [
       "<Figure size 432x288 with 1 Axes>"
      ]
     },
     "metadata": {
      "needs_background": "light"
     },
     "output_type": "display_data"
    }
   ],
   "source": [
    "sns.violinplot(\n",
    "    [len(seqrec) for seqrec in unique]\n",
    ").set(xlim=(350, 450))"
   ]
  },
  {
   "cell_type": "code",
   "execution_count": 13,
   "metadata": {},
   "outputs": [],
   "source": [
    "unique_filt = (seqrec for seqrec in unique if 380 <= len(seqrec) <= 440)"
   ]
  },
  {
   "cell_type": "code",
   "execution_count": null,
   "metadata": {},
   "outputs": [],
   "source": [
    "SeqIO.write(unique_filt, 'silva_ref_138_v34.fna', 'fasta')"
   ]
  },
  {
   "cell_type": "code",
   "execution_count": null,
   "metadata": {},
   "outputs": [],
   "source": []
  }
 ],
 "metadata": {
  "kernelspec": {
   "display_name": "Python 3",
   "language": "python",
   "name": "python3"
  },
  "language_info": {
   "codemirror_mode": {
    "name": "ipython",
    "version": 3
   },
   "file_extension": ".py",
   "mimetype": "text/x-python",
   "name": "python",
   "nbconvert_exporter": "python",
   "pygments_lexer": "ipython3",
   "version": "3.6.8"
  }
 },
 "nbformat": 4,
 "nbformat_minor": 4
}
